{
 "cells": [
  {
   "cell_type": "code",
   "execution_count": 104,
   "metadata": {},
   "outputs": [
    {
     "data": {
      "text/html": [
       "\n",
       "            <style>\n",
       "                .geemap-dark {\n",
       "                    --jp-widgets-color: white;\n",
       "                    --jp-widgets-label-color: white;\n",
       "                    --jp-ui-font-color1: white;\n",
       "                    --jp-layout-color2: #454545;\n",
       "                    background-color: #383838;\n",
       "                }\n",
       "\n",
       "                .geemap-dark .jupyter-button {\n",
       "                    --jp-layout-color3: #383838;\n",
       "                }\n",
       "\n",
       "                .geemap-colab {\n",
       "                    background-color: var(--colab-primary-surface-color, white);\n",
       "                }\n",
       "\n",
       "                .geemap-colab .jupyter-button {\n",
       "                    --jp-layout-color3: var(--colab-primary-surface-color, white);\n",
       "                }\n",
       "            </style>\n",
       "            "
      ],
      "text/plain": [
       "<IPython.core.display.HTML object>"
      ]
     },
     "metadata": {},
     "output_type": "display_data"
    }
   ],
   "source": [
    "# Install required packages (uncomment if needed)\n",
    "# !pip install earthengine-api geemap\n",
    "\n",
    "import ee\n",
    "import geemap\n",
    "import rasterio\n",
    "from rasterio.warp import calculate_default_transform, reproject, Resampling\n",
    "from rasterio.crs import CRS\n",
    "import os"
   ]
  },
  {
   "cell_type": "code",
   "execution_count": 112,
   "metadata": {},
   "outputs": [
    {
     "data": {
      "text/html": [
       "\n",
       "            <style>\n",
       "                .geemap-dark {\n",
       "                    --jp-widgets-color: white;\n",
       "                    --jp-widgets-label-color: white;\n",
       "                    --jp-ui-font-color1: white;\n",
       "                    --jp-layout-color2: #454545;\n",
       "                    background-color: #383838;\n",
       "                }\n",
       "\n",
       "                .geemap-dark .jupyter-button {\n",
       "                    --jp-layout-color3: #383838;\n",
       "                }\n",
       "\n",
       "                .geemap-colab {\n",
       "                    background-color: var(--colab-primary-surface-color, white);\n",
       "                }\n",
       "\n",
       "                .geemap-colab .jupyter-button {\n",
       "                    --jp-layout-color3: var(--colab-primary-surface-color, white);\n",
       "                }\n",
       "            </style>\n",
       "            "
      ],
      "text/plain": [
       "<IPython.core.display.HTML object>"
      ]
     },
     "metadata": {},
     "output_type": "display_data"
    }
   ],
   "source": [
    "def download_landsat_rgb(image_id, out_name, region):\n",
    "    \"\"\"\n",
    "    Downloads a Landsat image, selects RGB bands, clips it to a region, \n",
    "    visualises it in a notebook map, and exports it locally as a GeoTIFF.\n",
    "\n",
    "    Parameters:\n",
    "        image_id (str): Earth Engine Landsat image asset ID.\n",
    "        out_name (str): Base filename for saving the output file.\n",
    "        region (ee.Geometry): The region to clip and export.\n",
    "\n",
    "    Returns:\n",
    "        str: File path to the exported GeoTIFF.\n",
    "    \"\"\"\n",
    "\n",
    "    image = ee.Image(image_id).select(rgb_bands).clip(region)\n",
    "    \n",
    "    # Display in notebook (optional)\n",
    "    Map = geemap.Map()\n",
    "    Map.centerObject(region, 10)\n",
    "    Map.addLayer(image, vis_params, f'{out_name} RGB')\n",
    "    Map.addLayer(region, {}, \"Bounding Box\")\n",
    "    display(Map)\n",
    "    \n",
    "    # Export to local GeoTIFF\n",
    "    export_path = os.path.join(output_dir, f'{out_name}.tif')\n",
    "    geemap.ee_export_image(\n",
    "        image,\n",
    "        filename=export_path,\n",
    "        region=region,\n",
    "        scale=30,\n",
    "        file_per_band=False\n",
    "    )\n",
    "    print(f\"Image downloaded: {export_path}\")\n",
    "    return export_path"
   ]
  },
  {
   "cell_type": "code",
   "execution_count": 115,
   "metadata": {},
   "outputs": [
    {
     "data": {
      "text/html": [
       "\n",
       "            <style>\n",
       "                .geemap-dark {\n",
       "                    --jp-widgets-color: white;\n",
       "                    --jp-widgets-label-color: white;\n",
       "                    --jp-ui-font-color1: white;\n",
       "                    --jp-layout-color2: #454545;\n",
       "                    background-color: #383838;\n",
       "                }\n",
       "\n",
       "                .geemap-dark .jupyter-button {\n",
       "                    --jp-layout-color3: #383838;\n",
       "                }\n",
       "\n",
       "                .geemap-colab {\n",
       "                    background-color: var(--colab-primary-surface-color, white);\n",
       "                }\n",
       "\n",
       "                .geemap-colab .jupyter-button {\n",
       "                    --jp-layout-color3: var(--colab-primary-surface-color, white);\n",
       "                }\n",
       "            </style>\n",
       "            "
      ],
      "text/plain": [
       "<IPython.core.display.HTML object>"
      ]
     },
     "metadata": {},
     "output_type": "display_data"
    }
   ],
   "source": [
    "def reproject_raster(input_path, epsg=3413):\n",
    "    \"\"\"\n",
    "    Reprojects a GeoTIFF raster to a specified EPSG coordinate system.\n",
    "\n",
    "    Parameters:\n",
    "        input_path (str): File path to the input raster.\n",
    "        epsg (int): EPSG code for the target CRS (default = 3413 for NSIDC Polar Stereographic North).\n",
    "\n",
    "    Returns:\n",
    "        str: File path to the reprojected output raster.\n",
    "    \"\"\"\n",
    "    filename = os.path.basename(input_path)\n",
    "    output_path = os.path.join(output_dir, filename.replace('.tif', f'_EPSG{epsg}.tif'))\n",
    "    target_crs = CRS.from_epsg(epsg)\n",
    "\n",
    "    with rasterio.open(input_path) as src:\n",
    "        transform, width, height = calculate_default_transform(\n",
    "            src.crs, target_crs, src.width, src.height, *src.bounds)\n",
    "\n",
    "        kwargs = src.meta.copy()\n",
    "        kwargs.update({\n",
    "            'crs': target_crs,\n",
    "            'transform': transform,\n",
    "            'width': width,\n",
    "            'height': height\n",
    "        })\n",
    "\n",
    "        with rasterio.open(output_path, 'w', **kwargs) as dst:\n",
    "            for i in range(1, src.count + 1):\n",
    "                reproject(\n",
    "                    source=rasterio.band(src, i),\n",
    "                    destination=rasterio.band(dst, i),\n",
    "                    src_transform=src.transform,\n",
    "                    src_crs=src.crs,\n",
    "                    dst_transform=transform,\n",
    "                    dst_crs=target_crs,\n",
    "                    resampling=Resampling.nearest\n",
    "                )\n",
    "    \n",
    "    print(f\"Reprojection complete: {output_path}\")\n",
    "    return output_path"
   ]
  },
  {
   "cell_type": "code",
   "execution_count": 108,
   "metadata": {},
   "outputs": [
    {
     "data": {
      "text/html": [
       "\n",
       "            <style>\n",
       "                .geemap-dark {\n",
       "                    --jp-widgets-color: white;\n",
       "                    --jp-widgets-label-color: white;\n",
       "                    --jp-ui-font-color1: white;\n",
       "                    --jp-layout-color2: #454545;\n",
       "                    background-color: #383838;\n",
       "                }\n",
       "\n",
       "                .geemap-dark .jupyter-button {\n",
       "                    --jp-layout-color3: #383838;\n",
       "                }\n",
       "\n",
       "                .geemap-colab {\n",
       "                    background-color: var(--colab-primary-surface-color, white);\n",
       "                }\n",
       "\n",
       "                .geemap-colab .jupyter-button {\n",
       "                    --jp-layout-color3: var(--colab-primary-surface-color, white);\n",
       "                }\n",
       "            </style>\n",
       "            "
      ],
      "text/plain": [
       "<IPython.core.display.HTML object>"
      ]
     },
     "metadata": {},
     "output_type": "display_data"
    }
   ],
   "source": [
    "# Authenticate and initialise Earth Engine\n",
    "ee.Authenticate()\n",
    "ee.Initialize()"
   ]
  },
  {
   "cell_type": "code",
   "execution_count": 116,
   "metadata": {},
   "outputs": [
    {
     "data": {
      "text/html": [
       "\n",
       "            <style>\n",
       "                .geemap-dark {\n",
       "                    --jp-widgets-color: white;\n",
       "                    --jp-widgets-label-color: white;\n",
       "                    --jp-ui-font-color1: white;\n",
       "                    --jp-layout-color2: #454545;\n",
       "                    background-color: #383838;\n",
       "                }\n",
       "\n",
       "                .geemap-dark .jupyter-button {\n",
       "                    --jp-layout-color3: #383838;\n",
       "                }\n",
       "\n",
       "                .geemap-colab {\n",
       "                    background-color: var(--colab-primary-surface-color, white);\n",
       "                }\n",
       "\n",
       "                .geemap-colab .jupyter-button {\n",
       "                    --jp-layout-color3: var(--colab-primary-surface-color, white);\n",
       "                }\n",
       "            </style>\n",
       "            "
      ],
      "text/plain": [
       "<IPython.core.display.HTML object>"
      ]
     },
     "metadata": {},
     "output_type": "display_data"
    }
   ],
   "source": [
    "# Bounding box in WGS84 [xmin, ymin, xmax, ymax]\n",
    "bbox = [-44.18926, 81.6518, -43.70383, 81.77820]\n",
    "region = ee.Geometry.Rectangle(bbox)\n",
    "# Output directory\n",
    "repo_dir = os.getcwd()\n",
    "output_dir = os.path.join(repo_dir, 'data')\n",
    "os.makedirs(output_dir, exist_ok=True)"
   ]
  },
  {
   "cell_type": "code",
   "execution_count": 117,
   "metadata": {},
   "outputs": [
    {
     "data": {
      "text/html": [
       "\n",
       "            <style>\n",
       "                .geemap-dark {\n",
       "                    --jp-widgets-color: white;\n",
       "                    --jp-widgets-label-color: white;\n",
       "                    --jp-ui-font-color1: white;\n",
       "                    --jp-layout-color2: #454545;\n",
       "                    background-color: #383838;\n",
       "                }\n",
       "\n",
       "                .geemap-dark .jupyter-button {\n",
       "                    --jp-layout-color3: #383838;\n",
       "                }\n",
       "\n",
       "                .geemap-colab {\n",
       "                    background-color: var(--colab-primary-surface-color, white);\n",
       "                }\n",
       "\n",
       "                .geemap-colab .jupyter-button {\n",
       "                    --jp-layout-color3: var(--colab-primary-surface-color, white);\n",
       "                }\n",
       "            </style>\n",
       "            "
      ],
      "text/plain": [
       "<IPython.core.display.HTML object>"
      ]
     },
     "metadata": {},
     "output_type": "display_data"
    }
   ],
   "source": [
    "# Landsat image IDs and export names\n",
    "image_info = [\n",
    "    {\n",
    "        \"id\": 'LANDSAT/LC08/C02/T1_L2/LC08_031247_20150801',\n",
    "        \"out_name\": 'LC08_L2SP_031247_20150801_rgb_cropped'\n",
    "    },\n",
    "    {\n",
    "        \"id\": 'LANDSAT/LC08/C02/T1_L2/LC08_030247_20140722',\n",
    "        \"out_name\": 'LC08_L2SP_030247_20140722_rgb_cropped'\n",
    "    }\n",
    "]\n",
    "\n",
    "# RGB bands (SR_B4 = red, SR_B3 = green, SR_B2 = blue)\n",
    "rgb_bands = ['SR_B4', 'SR_B3', 'SR_B2']\n",
    "\n",
    "# Visualization stretch for display\n",
    "vis_params = {\n",
    "    'bands': rgb_bands,\n",
    "    'min': 5000,\n",
    "    'max': 15000,\n",
    "    'gamma': 1.4\n",
    "}\n"
   ]
  },
  {
   "cell_type": "code",
   "execution_count": 118,
   "metadata": {},
   "outputs": [
    {
     "data": {
      "text/html": [
       "\n",
       "            <style>\n",
       "                .geemap-dark {\n",
       "                    --jp-widgets-color: white;\n",
       "                    --jp-widgets-label-color: white;\n",
       "                    --jp-ui-font-color1: white;\n",
       "                    --jp-layout-color2: #454545;\n",
       "                    background-color: #383838;\n",
       "                }\n",
       "\n",
       "                .geemap-dark .jupyter-button {\n",
       "                    --jp-layout-color3: #383838;\n",
       "                }\n",
       "\n",
       "                .geemap-colab {\n",
       "                    background-color: var(--colab-primary-surface-color, white);\n",
       "                }\n",
       "\n",
       "                .geemap-colab .jupyter-button {\n",
       "                    --jp-layout-color3: var(--colab-primary-surface-color, white);\n",
       "                }\n",
       "            </style>\n",
       "            "
      ],
      "text/plain": [
       "<IPython.core.display.HTML object>"
      ]
     },
     "metadata": {},
     "output_type": "display_data"
    },
    {
     "data": {
      "application/vnd.jupyter.widget-view+json": {
       "model_id": "89f109cd0f284ab68d4f93fa089dce31",
       "version_major": 2,
       "version_minor": 0
      },
      "text/plain": [
       "Map(center=[81.71491372706069, -43.94654500000049], controls=(WidgetControl(options=['position', 'transparent_…"
      ]
     },
     "metadata": {},
     "output_type": "display_data"
    },
    {
     "name": "stdout",
     "output_type": "stream",
     "text": [
      "Generating URL ...\n",
      "Downloading data from https://earthengine.googleapis.com/v1/projects/260447762514/thumbnails/c94aaef80ff8faf4863a43041a90c109-ce3f1687aaedf13488f0181070b3c62a:getPixels\n",
      "Please wait ...\n",
      "Data downloaded to /Users/jade/Documents/Lancaster PhD/Harder-Glacier-subglacial-flood-outburst/figures/data/LC08_L2SP_031247_20150801_rgb_cropped.tif\n",
      "Image downloaded: /Users/jade/Documents/Lancaster PhD/Harder-Glacier-subglacial-flood-outburst/figures/data/LC08_L2SP_031247_20150801_rgb_cropped.tif\n",
      "Reprojection complete: /Users/jade/Documents/Lancaster PhD/Harder-Glacier-subglacial-flood-outburst/figures/data/LC08_L2SP_031247_20150801_rgb_cropped_EPSG3413.tif\n"
     ]
    },
    {
     "data": {
      "application/vnd.jupyter.widget-view+json": {
       "model_id": "27c1a2433c114932b0ab10915b58ffdb",
       "version_major": 2,
       "version_minor": 0
      },
      "text/plain": [
       "Map(center=[81.71491372706069, -43.94654500000049], controls=(WidgetControl(options=['position', 'transparent_…"
      ]
     },
     "metadata": {},
     "output_type": "display_data"
    },
    {
     "name": "stdout",
     "output_type": "stream",
     "text": [
      "Generating URL ...\n",
      "Downloading data from https://earthengine.googleapis.com/v1/projects/260447762514/thumbnails/b2833bfb197844d9486526f6d795d1b4-a7bb5f5e815f690243ec28c6917bb359:getPixels\n",
      "Please wait ...\n",
      "Data downloaded to /Users/jade/Documents/Lancaster PhD/Harder-Glacier-subglacial-flood-outburst/figures/data/LC08_L2SP_030247_20140722_rgb_cropped.tif\n",
      "Image downloaded: /Users/jade/Documents/Lancaster PhD/Harder-Glacier-subglacial-flood-outburst/figures/data/LC08_L2SP_030247_20140722_rgb_cropped.tif\n",
      "Reprojection complete: /Users/jade/Documents/Lancaster PhD/Harder-Glacier-subglacial-flood-outburst/figures/data/LC08_L2SP_030247_20140722_rgb_cropped_EPSG3413.tif\n"
     ]
    }
   ],
   "source": [
    "for img in image_info:\n",
    "    tif_path = download_landsat_rgb(img[\"id\"], img[\"out_name\"], region)\n",
    "    reproject_raster(tif_path)"
   ]
  }
 ],
 "metadata": {
  "kernelspec": {
   "display_name": "env-landsat",
   "language": "python",
   "name": "python3"
  },
  "language_info": {
   "codemirror_mode": {
    "name": "ipython",
    "version": 3
   },
   "file_extension": ".py",
   "mimetype": "text/x-python",
   "name": "python",
   "nbconvert_exporter": "python",
   "pygments_lexer": "ipython3",
   "version": "3.11.6"
  }
 },
 "nbformat": 4,
 "nbformat_minor": 2
}
