{
 "cells": [
  {
   "cell_type": "code",
   "execution_count": 1,
   "metadata": {},
   "outputs": [],
   "source": [
    "# Install required packages (uncomment if needed)\n",
    "# !pip install earthengine-api geemap\n",
    "\n",
    "import ee\n",
    "import geemap\n",
    "import os\n",
    "import rasterio\n",
    "from rasterio.warp import calculate_default_transform, reproject, Resampling\n",
    "from rasterio.crs import CRS"
   ]
  },
  {
   "cell_type": "code",
   "execution_count": 2,
   "metadata": {},
   "outputs": [
    {
     "data": {
      "text/html": [
       "\n",
       "            <style>\n",
       "                .geemap-dark {\n",
       "                    --jp-widgets-color: white;\n",
       "                    --jp-widgets-label-color: white;\n",
       "                    --jp-ui-font-color1: white;\n",
       "                    --jp-layout-color2: #454545;\n",
       "                    background-color: #383838;\n",
       "                }\n",
       "\n",
       "                .geemap-dark .jupyter-button {\n",
       "                    --jp-layout-color3: #383838;\n",
       "                }\n",
       "\n",
       "                .geemap-colab {\n",
       "                    background-color: var(--colab-primary-surface-color, white);\n",
       "                }\n",
       "\n",
       "                .geemap-colab .jupyter-button {\n",
       "                    --jp-layout-color3: var(--colab-primary-surface-color, white);\n",
       "                }\n",
       "            </style>\n",
       "            "
      ],
      "text/plain": [
       "<IPython.core.display.HTML object>"
      ]
     },
     "metadata": {},
     "output_type": "display_data"
    }
   ],
   "source": [
    "# Authenticate and initialise Earth Engine\n",
    "ee.Authenticate()\n",
    "ee.Initialize()"
   ]
  },
  {
   "cell_type": "code",
   "execution_count": 19,
   "metadata": {},
   "outputs": [
    {
     "data": {
      "text/html": [
       "\n",
       "            <style>\n",
       "                .geemap-dark {\n",
       "                    --jp-widgets-color: white;\n",
       "                    --jp-widgets-label-color: white;\n",
       "                    --jp-ui-font-color1: white;\n",
       "                    --jp-layout-color2: #454545;\n",
       "                    background-color: #383838;\n",
       "                }\n",
       "\n",
       "                .geemap-dark .jupyter-button {\n",
       "                    --jp-layout-color3: #383838;\n",
       "                }\n",
       "\n",
       "                .geemap-colab {\n",
       "                    background-color: var(--colab-primary-surface-color, white);\n",
       "                }\n",
       "\n",
       "                .geemap-colab .jupyter-button {\n",
       "                    --jp-layout-color3: var(--colab-primary-surface-color, white);\n",
       "                }\n",
       "            </style>\n",
       "            "
      ],
      "text/plain": [
       "<IPython.core.display.HTML object>"
      ]
     },
     "metadata": {},
     "output_type": "display_data"
    }
   ],
   "source": [
    "# Bounding box in WGS84 [xmin, ymin, xmax, ymax]\n",
    "bbox = [-44.07166500771045, 81.67474037410186, -43.87093088605835, 81.72574342759195]\n",
    "region = ee.Geometry.Rectangle(bbox)\n",
    "\n",
    "# Output directory\n",
    "repo_dir = os.getcwd()\n",
    "out_dir = os.path.join(repo_dir, 'Data', 'Landsat')\n",
    "temp_dir = os.path.join(repo_dir, 'Data', 'Landsat', 'temp')\n",
    "os.makedirs(out_dir, exist_ok=True)\n",
    "os.makedirs(temp_dir, exist_ok=True)\n",
    "\n",
    "# Define date ranges\n",
    "dates = {\n",
    "    \"1990\": (\"1990-06-16\", \"1990-08-01\", \"1990-08-03\", \"1990-08-17\"),\n",
    "    \"2014\": (\"2014-06-28\", \"2014-07-07\", \"2014-08-15\", \"2014-08-26\")\n",
    "}\n",
    "\n",
    "# Bounding box region\n",
    "bbox = [-44.18926, 81.6518, -43.70383, 81.77820]\n",
    "region = ee.Geometry.Rectangle(bbox)\n"
   ]
  },
  {
   "cell_type": "code",
   "execution_count": 20,
   "metadata": {},
   "outputs": [
    {
     "data": {
      "text/html": [
       "\n",
       "            <style>\n",
       "                .geemap-dark {\n",
       "                    --jp-widgets-color: white;\n",
       "                    --jp-widgets-label-color: white;\n",
       "                    --jp-ui-font-color1: white;\n",
       "                    --jp-layout-color2: #454545;\n",
       "                    background-color: #383838;\n",
       "                }\n",
       "\n",
       "                .geemap-dark .jupyter-button {\n",
       "                    --jp-layout-color3: #383838;\n",
       "                }\n",
       "\n",
       "                .geemap-colab {\n",
       "                    background-color: var(--colab-primary-surface-color, white);\n",
       "                }\n",
       "\n",
       "                .geemap-colab .jupyter-button {\n",
       "                    --jp-layout-color3: var(--colab-primary-surface-color, white);\n",
       "                }\n",
       "            </style>\n",
       "            "
      ],
      "text/plain": [
       "<IPython.core.display.HTML object>"
      ]
     },
     "metadata": {},
     "output_type": "display_data"
    }
   ],
   "source": [
    "def download_landsat_rgb(image_id, out_name, region):\n",
    "    \"\"\"\n",
    "    Downloads a Landsat image, selects RGB bands, clips it to a region, \n",
    "    visualises it in a notebook map, and exports it locally as a GeoTIFF.\n",
    "\n",
    "    Parameters:\n",
    "        image_id (str): Earth Engine Landsat image asset ID.\n",
    "        out_name (str): Base filename for saving the output file.\n",
    "        region (ee.Geometry): The region to clip and export.\n",
    "\n",
    "    Returns:\n",
    "        str: File path to the exported GeoTIFF.\n",
    "    \"\"\"\n",
    "\n",
    "    image = ee.Image(image_id).select(rgb_bands).clip(region)\n",
    "    \n",
    "    # # Display in notebook (optional)\n",
    "    # Map = geemap.Map()\n",
    "    # Map.centerObject(region, 10)\n",
    "    # Map.addLayer(image, vis_params, f'{out_name} RGB')\n",
    "    # Map.addLayer(region, {}, \"Bounding Box\")\n",
    "    # display(Map)\n",
    "    \n",
    "    # Export to local GeoTIFF\n",
    "    export_path = os.path.join(out_dir, f'{out_name}.tif')\n",
    "    geemap.ee_export_image(\n",
    "        image,\n",
    "        filename=export_path,\n",
    "        region=region,\n",
    "        scale=30,\n",
    "        file_per_band=False\n",
    "    )\n",
    "    print(f\"Image downloaded: {export_path}\")\n",
    "    return export_path"
   ]
  },
  {
   "cell_type": "code",
   "execution_count": 21,
   "metadata": {},
   "outputs": [
    {
     "data": {
      "text/html": [
       "\n",
       "            <style>\n",
       "                .geemap-dark {\n",
       "                    --jp-widgets-color: white;\n",
       "                    --jp-widgets-label-color: white;\n",
       "                    --jp-ui-font-color1: white;\n",
       "                    --jp-layout-color2: #454545;\n",
       "                    background-color: #383838;\n",
       "                }\n",
       "\n",
       "                .geemap-dark .jupyter-button {\n",
       "                    --jp-layout-color3: #383838;\n",
       "                }\n",
       "\n",
       "                .geemap-colab {\n",
       "                    background-color: var(--colab-primary-surface-color, white);\n",
       "                }\n",
       "\n",
       "                .geemap-colab .jupyter-button {\n",
       "                    --jp-layout-color3: var(--colab-primary-surface-color, white);\n",
       "                }\n",
       "            </style>\n",
       "            "
      ],
      "text/plain": [
       "<IPython.core.display.HTML object>"
      ]
     },
     "metadata": {},
     "output_type": "display_data"
    }
   ],
   "source": [
    "def reproject_raster(input_path, epsg=3413):\n",
    "    \"\"\"\n",
    "    Reprojects a GeoTIFF raster to a specified EPSG coordinate system.\n",
    "\n",
    "    Parameters:\n",
    "        input_path (str): File path to the input raster.\n",
    "        epsg (int): EPSG code for the target CRS (default = 3413 for NSIDC Polar Stereographic North).\n",
    "\n",
    "    Returns:\n",
    "        str: File path to the reprojected output raster.\n",
    "    \"\"\"\n",
    "    filename = os.path.basename(input_path)\n",
    "    output_path = os.path.join(out_dir, filename.replace('.tif', f'_EPSG{epsg}.tif'))\n",
    "    target_crs = CRS.from_epsg(epsg)\n",
    "\n",
    "    with rasterio.open(input_path) as src:\n",
    "        transform, width, height = calculate_default_transform(\n",
    "            src.crs, target_crs, src.width, src.height, *src.bounds)\n",
    "\n",
    "        kwargs = src.meta.copy()\n",
    "        kwargs.update({\n",
    "            'crs': target_crs,\n",
    "            'transform': transform,\n",
    "            'width': width,\n",
    "            'height': height\n",
    "        })\n",
    "\n",
    "        with rasterio.open(output_path, 'w', **kwargs) as dst:\n",
    "            for i in range(1, src.count + 1):\n",
    "                reproject(\n",
    "                    source=rasterio.band(src, i),\n",
    "                    destination=rasterio.band(dst, i),\n",
    "                    src_transform=src.transform,\n",
    "                    src_crs=src.crs,\n",
    "                    dst_transform=transform,\n",
    "                    dst_crs=target_crs,\n",
    "                    resampling=Resampling.nearest\n",
    "                )\n",
    "    \n",
    "    print(f\"Reprojection complete: {output_path}\")\n",
    "    return output_path"
   ]
  },
  {
   "cell_type": "code",
   "execution_count": 22,
   "metadata": {},
   "outputs": [
    {
     "data": {
      "text/html": [
       "\n",
       "            <style>\n",
       "                .geemap-dark {\n",
       "                    --jp-widgets-color: white;\n",
       "                    --jp-widgets-label-color: white;\n",
       "                    --jp-ui-font-color1: white;\n",
       "                    --jp-layout-color2: #454545;\n",
       "                    background-color: #383838;\n",
       "                }\n",
       "\n",
       "                .geemap-dark .jupyter-button {\n",
       "                    --jp-layout-color3: #383838;\n",
       "                }\n",
       "\n",
       "                .geemap-colab {\n",
       "                    background-color: var(--colab-primary-surface-color, white);\n",
       "                }\n",
       "\n",
       "                .geemap-colab .jupyter-button {\n",
       "                    --jp-layout-color3: var(--colab-primary-surface-color, white);\n",
       "                }\n",
       "            </style>\n",
       "            "
      ],
      "text/plain": [
       "<IPython.core.display.HTML object>"
      ]
     },
     "metadata": {},
     "output_type": "display_data"
    }
   ],
   "source": [
    "# Landsat image IDs and export names\n",
    "image_info_2014 = [\n",
    "    {\"id\": 'LANDSAT/LC08/C02/T1_L2/LC08_038245_20140628', \"out_name\": \"LC08_20140628\"},\n",
    "    {\"id\": 'LANDSAT/LC08/C02/T1_L2/LC08_037245_20140707', \"out_name\": \"LC08_20140707\"},\n",
    "    {\"id\": 'LANDSAT/LC08/C02/T1_L2/LC08_038245_20140815', \"out_name\": \"LC08_20140815\"},\n",
    "    {\"id\": 'LANDSAT/LC08/C02/T1_L2/LC08_019248_20140826', \"out_name\": \"LC08_20140826\"},\n",
    "]\n",
    "\n",
    "# RGB bands (SR_B4 = red, SR_B3 = green, SR_B2 = blue)\n",
    "rgb_bands = ['SR_B4', 'SR_B3', 'SR_B2']\n",
    "\n",
    "# Visualization stretch for display\n",
    "vis_params = {\n",
    "    'bands': rgb_bands,\n",
    "    'min': 5000,\n",
    "    'max': 15000,\n",
    "    'gamma': 1.4\n",
    "}\n"
   ]
  },
  {
   "cell_type": "code",
   "execution_count": 23,
   "metadata": {},
   "outputs": [
    {
     "data": {
      "text/html": [
       "\n",
       "            <style>\n",
       "                .geemap-dark {\n",
       "                    --jp-widgets-color: white;\n",
       "                    --jp-widgets-label-color: white;\n",
       "                    --jp-ui-font-color1: white;\n",
       "                    --jp-layout-color2: #454545;\n",
       "                    background-color: #383838;\n",
       "                }\n",
       "\n",
       "                .geemap-dark .jupyter-button {\n",
       "                    --jp-layout-color3: #383838;\n",
       "                }\n",
       "\n",
       "                .geemap-colab {\n",
       "                    background-color: var(--colab-primary-surface-color, white);\n",
       "                }\n",
       "\n",
       "                .geemap-colab .jupyter-button {\n",
       "                    --jp-layout-color3: var(--colab-primary-surface-color, white);\n",
       "                }\n",
       "            </style>\n",
       "            "
      ],
      "text/plain": [
       "<IPython.core.display.HTML object>"
      ]
     },
     "metadata": {},
     "output_type": "display_data"
    },
    {
     "name": "stdout",
     "output_type": "stream",
     "text": [
      "Generating URL ...\n",
      "Downloading data from https://earthengine.googleapis.com/v1/projects/260447762514/thumbnails/b749bb69d3f814cd09e40fb36af1d2f4-114460d382d6e09da768ab004f5b5711:getPixels\n",
      "Please wait ...\n",
      "Data downloaded to /Users/jade/Documents/Python Coding/Harder-glacier-subglacial-outburst/Figures/Data/Landsat/LC08_20140628.tif\n",
      "Image downloaded: /Users/jade/Documents/Python Coding/Harder-glacier-subglacial-outburst/Figures/Data/Landsat/LC08_20140628.tif\n",
      "Reprojection complete: /Users/jade/Documents/Python Coding/Harder-glacier-subglacial-outburst/Figures/Data/Landsat/LC08_20140628_EPSG3413.tif\n",
      "Generating URL ...\n",
      "Downloading data from https://earthengine.googleapis.com/v1/projects/260447762514/thumbnails/3f5942147eb30296db5f4776c9e0bfc3-1ee9412e29d67a7d4187a4f2e9194d24:getPixels\n",
      "Please wait ...\n",
      "Data downloaded to /Users/jade/Documents/Python Coding/Harder-glacier-subglacial-outburst/Figures/Data/Landsat/LC08_20140707.tif\n",
      "Image downloaded: /Users/jade/Documents/Python Coding/Harder-glacier-subglacial-outburst/Figures/Data/Landsat/LC08_20140707.tif\n",
      "Reprojection complete: /Users/jade/Documents/Python Coding/Harder-glacier-subglacial-outburst/Figures/Data/Landsat/LC08_20140707_EPSG3413.tif\n",
      "Generating URL ...\n",
      "Downloading data from https://earthengine.googleapis.com/v1/projects/260447762514/thumbnails/5d5cd0550849be951444b83f13879db4-ae496316c30184988e795f421c186f0e:getPixels\n",
      "Please wait ...\n",
      "Data downloaded to /Users/jade/Documents/Python Coding/Harder-glacier-subglacial-outburst/Figures/Data/Landsat/LC08_20140815.tif\n",
      "Image downloaded: /Users/jade/Documents/Python Coding/Harder-glacier-subglacial-outburst/Figures/Data/Landsat/LC08_20140815.tif\n",
      "Reprojection complete: /Users/jade/Documents/Python Coding/Harder-glacier-subglacial-outburst/Figures/Data/Landsat/LC08_20140815_EPSG3413.tif\n",
      "Generating URL ...\n",
      "Downloading data from https://earthengine.googleapis.com/v1/projects/260447762514/thumbnails/5bedf9c2ee5b60c93ad1c4112ec3e5cd-df00f30a616fdc6517ea676215c3098b:getPixels\n",
      "Please wait ...\n",
      "Data downloaded to /Users/jade/Documents/Python Coding/Harder-glacier-subglacial-outburst/Figures/Data/Landsat/LC08_20140826.tif\n",
      "Image downloaded: /Users/jade/Documents/Python Coding/Harder-glacier-subglacial-outburst/Figures/Data/Landsat/LC08_20140826.tif\n",
      "Reprojection complete: /Users/jade/Documents/Python Coding/Harder-glacier-subglacial-outburst/Figures/Data/Landsat/LC08_20140826_EPSG3413.tif\n"
     ]
    }
   ],
   "source": [
    "for img in image_info_2014:\n",
    "    tif_path = download_landsat_rgb(img[\"id\"], img[\"out_name\"], region)\n",
    "    reproject_raster(tif_path)"
   ]
  },
  {
   "cell_type": "code",
   "execution_count": 24,
   "metadata": {},
   "outputs": [
    {
     "data": {
      "text/html": [
       "\n",
       "            <style>\n",
       "                .geemap-dark {\n",
       "                    --jp-widgets-color: white;\n",
       "                    --jp-widgets-label-color: white;\n",
       "                    --jp-ui-font-color1: white;\n",
       "                    --jp-layout-color2: #454545;\n",
       "                    background-color: #383838;\n",
       "                }\n",
       "\n",
       "                .geemap-dark .jupyter-button {\n",
       "                    --jp-layout-color3: #383838;\n",
       "                }\n",
       "\n",
       "                .geemap-colab {\n",
       "                    background-color: var(--colab-primary-surface-color, white);\n",
       "                }\n",
       "\n",
       "                .geemap-colab .jupyter-button {\n",
       "                    --jp-layout-color3: var(--colab-primary-surface-color, white);\n",
       "                }\n",
       "            </style>\n",
       "            "
      ],
      "text/plain": [
       "<IPython.core.display.HTML object>"
      ]
     },
     "metadata": {},
     "output_type": "display_data"
    }
   ],
   "source": [
    "# Landsat image IDs and export names\n",
    "image_info_1990 = [\n",
    "    {\"id\": 'LANDSAT/LT05/C02/T1_L2/LT05_032001_19900616', \"out_name\": \"LT05_19900616\"},\n",
    "    {\"id\": 'LANDSAT/LT05/C02/T1_L2/LT05_018248_19900801', \"out_name\": \"LT05_19900801\"},\n",
    "    {\"id\": 'LANDSAT/LT05/C02/T1_L2/LT05_032001_19900803', \"out_name\": \"LT05_19900803\"},\n",
    "    {\"id\": 'LANDSAT/LT05/C02/T1_L2/LT05_018248_19900817', \"out_name\": \"LT05_19900817\"},\n",
    "]\n",
    "\n",
    "# RGB bands (SR_B3 = red, SR_B2 = green, SR_B1 = blue)\n",
    "rgb_bands = ['SR_B4', 'SR_B3', 'SR_B2']\n",
    "\n",
    "# Visualization stretch for display\n",
    "vis_params_l5 = {'min': 0.05, 'max': 0.35, 'gamma': 1.2}\n",
    "\n"
   ]
  },
  {
   "cell_type": "code",
   "execution_count": 25,
   "metadata": {},
   "outputs": [
    {
     "data": {
      "text/html": [
       "\n",
       "            <style>\n",
       "                .geemap-dark {\n",
       "                    --jp-widgets-color: white;\n",
       "                    --jp-widgets-label-color: white;\n",
       "                    --jp-ui-font-color1: white;\n",
       "                    --jp-layout-color2: #454545;\n",
       "                    background-color: #383838;\n",
       "                }\n",
       "\n",
       "                .geemap-dark .jupyter-button {\n",
       "                    --jp-layout-color3: #383838;\n",
       "                }\n",
       "\n",
       "                .geemap-colab {\n",
       "                    background-color: var(--colab-primary-surface-color, white);\n",
       "                }\n",
       "\n",
       "                .geemap-colab .jupyter-button {\n",
       "                    --jp-layout-color3: var(--colab-primary-surface-color, white);\n",
       "                }\n",
       "            </style>\n",
       "            "
      ],
      "text/plain": [
       "<IPython.core.display.HTML object>"
      ]
     },
     "metadata": {},
     "output_type": "display_data"
    },
    {
     "name": "stdout",
     "output_type": "stream",
     "text": [
      "Generating URL ...\n",
      "Downloading data from https://earthengine.googleapis.com/v1/projects/260447762514/thumbnails/18ca88a62ff0cd68cf0bf9703878cdbd-a584ad95f66f5ce578943f2d43f5ef77:getPixels\n",
      "Please wait ...\n",
      "Data downloaded to /Users/jade/Documents/Python Coding/Harder-glacier-subglacial-outburst/Figures/Data/Landsat/LT05_19900616.tif\n",
      "Image downloaded: /Users/jade/Documents/Python Coding/Harder-glacier-subglacial-outburst/Figures/Data/Landsat/LT05_19900616.tif\n",
      "Reprojection complete: /Users/jade/Documents/Python Coding/Harder-glacier-subglacial-outburst/Figures/Data/Landsat/LT05_19900616_EPSG3413.tif\n",
      "Generating URL ...\n",
      "Downloading data from https://earthengine.googleapis.com/v1/projects/260447762514/thumbnails/8c092cf8044c2fef72431e39c2470850-1c40407b9b7ee20c48ae259ce5e32c27:getPixels\n",
      "Please wait ...\n",
      "Data downloaded to /Users/jade/Documents/Python Coding/Harder-glacier-subglacial-outburst/Figures/Data/Landsat/LT05_19900801.tif\n",
      "Image downloaded: /Users/jade/Documents/Python Coding/Harder-glacier-subglacial-outburst/Figures/Data/Landsat/LT05_19900801.tif\n",
      "Reprojection complete: /Users/jade/Documents/Python Coding/Harder-glacier-subglacial-outburst/Figures/Data/Landsat/LT05_19900801_EPSG3413.tif\n",
      "Generating URL ...\n",
      "Downloading data from https://earthengine.googleapis.com/v1/projects/260447762514/thumbnails/04dd03d9dd88d9b3865928f471e396d7-e8949a82e00181f279fc596e46d627fe:getPixels\n",
      "Please wait ...\n",
      "Data downloaded to /Users/jade/Documents/Python Coding/Harder-glacier-subglacial-outburst/Figures/Data/Landsat/LT05_19900803.tif\n",
      "Image downloaded: /Users/jade/Documents/Python Coding/Harder-glacier-subglacial-outburst/Figures/Data/Landsat/LT05_19900803.tif\n",
      "Reprojection complete: /Users/jade/Documents/Python Coding/Harder-glacier-subglacial-outburst/Figures/Data/Landsat/LT05_19900803_EPSG3413.tif\n",
      "Generating URL ...\n",
      "Downloading data from https://earthengine.googleapis.com/v1/projects/260447762514/thumbnails/f83209a0194c49430057e482196c5918-3b5cf30b4c573c45bdf5d2ae3f58949f:getPixels\n",
      "Please wait ...\n",
      "Data downloaded to /Users/jade/Documents/Python Coding/Harder-glacier-subglacial-outburst/Figures/Data/Landsat/LT05_19900817.tif\n",
      "Image downloaded: /Users/jade/Documents/Python Coding/Harder-glacier-subglacial-outburst/Figures/Data/Landsat/LT05_19900817.tif\n",
      "Reprojection complete: /Users/jade/Documents/Python Coding/Harder-glacier-subglacial-outburst/Figures/Data/Landsat/LT05_19900817_EPSG3413.tif\n"
     ]
    }
   ],
   "source": [
    "for img in image_info_1990:\n",
    "    tif_path = download_landsat_rgb(img[\"id\"], img[\"out_name\"], region)\n",
    "    reproject_raster(tif_path)"
   ]
  }
 ],
 "metadata": {
  "kernelspec": {
   "display_name": ".venv",
   "language": "python",
   "name": "python3"
  },
  "language_info": {
   "codemirror_mode": {
    "name": "ipython",
    "version": 3
   },
   "file_extension": ".py",
   "mimetype": "text/x-python",
   "name": "python",
   "nbconvert_exporter": "python",
   "pygments_lexer": "ipython3",
   "version": "3.11.6"
  }
 },
 "nbformat": 4,
 "nbformat_minor": 2
}
