{
 "cells": [
  {
   "cell_type": "markdown",
   "metadata": {},
   "source": [
    "# Step 2: Cropping ArcticDEM tif Files to AOI\n",
    "\n",
    "This script processes ArcticDEM Strip files by cropping them to a specified Area of Interest (AOI) defined in a shapefile.\n",
    "\n",
    "---\n",
    "\n",
    "### `crop_tifs_to_aoi` Function\n",
    "- Accepts an input folder with `.tif` files, an AOI shapefile, and an output folder path\n",
    "- Ensures output directory exists\n",
    "- Loads the AOI shapefile\n",
    "- Reprojects the AOI to match the raster CRS if needed\n",
    "\n",
    "Loops Through All .tif Files\n",
    "- Skips empty .tifs (size = 0 MB)\n",
    "- Uses `rasterio.mask` to crop raster by AOI geometry\n",
    "- Updates metadata and saves the cropped TIFF in the output folder\n",
    "\n",
    "Finally, the script runs the function with these inputs:\n",
    "- `input_folder`: Folder containing original ArcticDEM TIFFs\n",
    "- `shapefile_path`: AOI shapefile path\n",
    "- `output_folder`: Where cropped TIFFs are saved"
   ]
  },
  {
   "cell_type": "code",
   "execution_count": null,
   "metadata": {},
   "outputs": [],
   "source": [
    "import os\n",
    "import rasterio\n",
    "from rasterio.errors import RasterioIOError\n",
    "from rasterio.mask import mask\n",
    "import geopandas as gpd\n",
    "from pathlib import Path"
   ]
  },
  {
   "cell_type": "code",
   "execution_count": null,
   "metadata": {},
   "outputs": [],
   "source": [
    "def crop_tifs_to_aoi(input_folder, shapefile_path, output_folder):\n",
    "    \"\"\"\n",
    "    Crops all TIFF files in a folder to the area defined by an AOI shapefile.\n",
    "\n",
    "    Parameters:\n",
    "        input_folder (str): Path to the folder containing TIFF files.\n",
    "        shapefile_path (str): Path to the AOI shapefile.\n",
    "        output_folder (str): Path to the folder to save cropped TIFF files.\n",
    "    \"\"\"\n",
    "    # Ensure output folder exists\n",
    "    os.makedirs(output_folder, exist_ok=True)\n",
    "\n",
    "    # Load the shapefile\n",
    "    aoi = gpd.read_file(shapefile_path)\n",
    "\n",
    "    # Check if AOI is in the correct CRS (Coordinate Reference System)\n",
    "    with rasterio.open(next(Path(input_folder).glob(\"*.tif\"))) as src:\n",
    "        raster_crs = src.crs\n",
    "    if aoi.crs != raster_crs:\n",
    "        print(f\"Reprojecting AOI from {aoi.crs} to {raster_crs}\")\n",
    "        aoi = aoi.to_crs(raster_crs)\n",
    "\n",
    "    # Loop through all TIFF files in the input folder\n",
    "    for tif_path in Path(input_folder).glob(\"*.tif\"):\n",
    "        if tif_path.stat().st_size > 0:  # Check if the file size is greater than 0MB\n",
    "            try:\n",
    "                print(f\"Processing {tif_path}\")\n",
    "                with rasterio.open(tif_path) as src:\n",
    "                    # Crop the raster with AOI\n",
    "                    out_image, out_transform = mask(src, aoi.geometry, crop=True)\n",
    "                    out_meta = src.meta.copy()\n",
    "\n",
    "                    # Update metadata for the cropped image\n",
    "                    out_meta.update({\n",
    "                        \"driver\": \"GTiff\",\n",
    "                        \"height\": out_image.shape[1],\n",
    "                        \"width\": out_image.shape[2],\n",
    "                        \"transform\": out_transform\n",
    "                    })\n",
    "\n",
    "                    # Save the cropped image\n",
    "                    output_path = Path(output_folder) / tif_path.name\n",
    "                    with rasterio.open(output_path, \"w\", **out_meta) as dest:\n",
    "                        dest.write(out_image)\n",
    "                print(f\"Saved cropped image to {output_path}\")\n",
    "            except (RasterioIOError, ValueError) as e:\n",
    "                print(f\"Skipping {tif_path} due to error: {e}\")\n",
    "        else:\n",
    "            print(f\"Skipping {tif_path} as it is empty (size = 0MB)\")"
   ]
  },
  {
   "cell_type": "code",
   "execution_count": null,
   "metadata": {},
   "outputs": [],
   "source": [
    "input_folder = \"1_download/\"\n",
    "shapefile_path = \"aoi/aoi_collapse_basin.shp\"\n",
    "output_folder = \"2_crop/\"\n",
    "\n",
    "crop_tifs_to_aoi(input_folder, shapefile_path, output_folder)"
   ]
  }
 ],
 "metadata": {
  "kernelspec": {
   "display_name": "env-landsat",
   "language": "python",
   "name": "python3"
  },
  "language_info": {
   "codemirror_mode": {
    "name": "ipython",
    "version": 3
   },
   "file_extension": ".py",
   "mimetype": "text/x-python",
   "name": "python",
   "nbconvert_exporter": "python",
   "pygments_lexer": "ipython3",
   "version": "3.11.6"
  }
 },
 "nbformat": 4,
 "nbformat_minor": 2
}
